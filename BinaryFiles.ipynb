{
 "metadata": {
  "name": "",
  "signature": "sha256:7bb861dec3d4e4a77b01a7af0fd3fa3dd86cb32f870b2018b6b1af3225368606"
 },
 "nbformat": 3,
 "nbformat_minor": 0,
 "worksheets": [
  {
   "cells": [
    {
     "cell_type": "code",
     "collapsed": false,
     "input": [
      "#Para leer un archivo binario podemos utilizar la funci\u00f3n open() y el modo \"decode\" \n",
      "with open('el_archivo.bin', 'rb') as bi:\n",
      "    archivo = bi.read()\n",
      "    texto=archivo.decode('utf-8')\n",
      "    print texto\n",
      "\n",
      "    \n",
      "\n"
     ],
     "language": "python",
     "metadata": {},
     "outputs": [
      {
       "output_type": "stream",
       "stream": "stdout",
       "text": [
        "El archivo es un archivo .bin muy simple\n"
       ]
      }
     ],
     "prompt_number": 5
    },
    {
     "cell_type": "code",
     "collapsed": false,
     "input": [
      "#Para escribir sobre un archivo binario utilizamos open() y el modo \"encode\"\n",
      "with open('el_archivo.bin', 'wb') as f:\n",
      "    text='El archivo es un archivo .bin muy simple'\n",
      "    f.write(text.encode('utf-8'))\n",
      "    f.close()\n",
      "    \n",
      "    \n",
      "    \n",
      "    "
     ],
     "language": "python",
     "metadata": {},
     "outputs": [],
     "prompt_number": 4
    },
    {
     "cell_type": "code",
     "collapsed": false,
     "input": [],
     "language": "python",
     "metadata": {},
     "outputs": []
    }
   ],
   "metadata": {}
  }
 ]
}